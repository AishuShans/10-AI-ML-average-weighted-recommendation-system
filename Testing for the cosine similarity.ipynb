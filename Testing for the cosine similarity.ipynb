{
 "cells": [
  {
   "cell_type": "code",
   "execution_count": 5,
   "id": "397bc851-dc67-44c6-b2ca-ab3cf13094ce",
   "metadata": {},
   "outputs": [],
   "source": [
    "from sklearn.feature_extraction.text import TfidfVectorizer\n",
    "from sklearn.metrics.pairwise import cosine_similarity"
   ]
  },
  {
   "cell_type": "code",
   "execution_count": 7,
   "id": "ba2f6f1c-1a30-43e4-bf21-44db877021fc",
   "metadata": {},
   "outputs": [],
   "source": [
    "#Sample documents\n",
    "docs=[\"machine learning and ai\",\"deep learning in ai\",\"romantic poetry and love\"]\n"
   ]
  },
  {
   "cell_type": "code",
   "execution_count": 9,
   "id": "8a3e8543-b375-4f22-ab81-4568f6c7b937",
   "metadata": {},
   "outputs": [],
   "source": [
    "#convert text to tf-idf vectors\n",
    "vectorizer=TfidfVectorizer()\n",
    "tfidf_matrix=vectorizer.fit_transform(docs)"
   ]
  },
  {
   "cell_type": "code",
   "execution_count": 11,
   "id": "8dd4a097-721d-4e18-8bd0-85cb54cd33f8",
   "metadata": {},
   "outputs": [],
   "source": [
    "#Compute cosine similarity\n",
    "similarity=cosine_similarity(tfidf_matrix)"
   ]
  },
  {
   "cell_type": "code",
   "execution_count": 15,
   "id": "e5f37319-f0cc-469a-9101-3a9a34e79a46",
   "metadata": {},
   "outputs": [
    {
     "name": "stdout",
     "output_type": "stream",
     "text": [
      "          Doc1      Doc2     Doc3\n",
      "Doc1  1.000000  0.393677  0.18488\n",
      "Doc2  0.393677  1.000000  0.00000\n",
      "Doc3  0.184880  0.000000  1.00000\n"
     ]
    }
   ],
   "source": [
    "#print similarity matrix\n",
    "import pandas as pd\n",
    "df=pd.DataFrame(similarity,columns=[\"Doc1\",\"Doc2\",\"Doc3\"],index=[\"Doc1\",\"Doc2\",\"Doc3\"])\n",
    "print(df)"
   ]
  },
  {
   "cell_type": "code",
   "execution_count": null,
   "id": "279a6c63-386e-4f9a-8463-37062b67746a",
   "metadata": {},
   "outputs": [],
   "source": []
  }
 ],
 "metadata": {
  "kernelspec": {
   "display_name": "Python 3 (ipykernel)",
   "language": "python",
   "name": "python3"
  },
  "language_info": {
   "codemirror_mode": {
    "name": "ipython",
    "version": 3
   },
   "file_extension": ".py",
   "mimetype": "text/x-python",
   "name": "python",
   "nbconvert_exporter": "python",
   "pygments_lexer": "ipython3",
   "version": "3.12.4"
  }
 },
 "nbformat": 4,
 "nbformat_minor": 5
}
